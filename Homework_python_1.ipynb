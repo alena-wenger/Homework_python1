{
 "cells": [
  {
   "cell_type": "code",
   "execution_count": 19,
   "metadata": {},
   "outputs": [
    {
     "name": "stdout",
     "output_type": "stream",
     "text": [
      "обычный год\n"
     ]
    }
   ],
   "source": [
    "#задание 2\n",
    "\n",
    "year = 1307\n",
    "if year % 4 == 0:\n",
    "    print('високосный год')\n",
    "else:\n",
    "    print('обычный год')"
   ]
  },
  {
   "cell_type": "code",
   "execution_count": 23,
   "metadata": {},
   "outputs": [
    {
     "name": "stdout",
     "output_type": "stream",
     "text": [
      "рыбы\n"
     ]
    }
   ],
   "source": [
    "#задание 3\n",
    "\n",
    "day = 2\n",
    "month = 'март'\n",
    "if (day >= 21 and month == 'март') or (day < 21 and month == 'апрель'):\n",
    "    print('овен')\n",
    "elif day >= 21 and month == 'апрель' or day < 21 and month == 'май':\n",
    "    print('телец')\n",
    "elif day >= 21 and month == 'май' or day < 21 and month == 'июнь':\n",
    "    print('близнецы')\n",
    "elif day >= 21 and month == 'июнь' or day < 21 and month == 'июль':\n",
    "    print('рак')\n",
    "elif day >= 21 and month == 'июль' or day < 21 and month == 'август':\n",
    "    print('лев')\n",
    "elif day >= 21 and month == 'август' or day < 21 and month == 'сентябрь':\n",
    "    print('Дева')\n",
    "elif day >= 21 and month == 'сентябрь' or day < 21 and month == 'октябрь':\n",
    "    print('весы')\n",
    "elif day >= 21 and month == 'октябрь' or day < 21 and month == 'ноябрь':\n",
    "    print('скорпион')\n",
    "elif day >= 21 and month == 'ноябрь' or day < 21 and month == 'декабрь':\n",
    "    print('стрелец')\n",
    "elif day >= 21 and month == 'декабрь' or day < 21 and month == 'январь':\n",
    "    print('козерог')\n",
    "elif day >= 21 and month == 'январь' or day < 21 and month == 'февраль':\n",
    "    print('водолей')\n",
    "else:\n",
    "    print('рыбы')\n",
    "    "
   ]
  },
  {
   "cell_type": "code",
   "execution_count": 27,
   "metadata": {},
   "outputs": [
    {
     "name": "stdout",
     "output_type": "stream",
     "text": [
      "Стандартная коробка №3\n"
     ]
    }
   ],
   "source": [
    "# задание 4\n",
    "\n",
    "width = 9\n",
    "length = 150\n",
    "height = 5\n",
    "\n",
    "if width <= 15 and length <=15 and height <= 15:\n",
    "    print ('Коробка №1')\n",
    "elif width <= 50 and length <=50 and height <= 50:\n",
    "    print ('Коробка №2')\n",
    "elif length >= 200:\n",
    "    print ('Упаковка для лыж')\n",
    "else:\n",
    "    print('Стандартная коробка №3')"
   ]
  },
  {
   "cell_type": "code",
   "execution_count": 33,
   "metadata": {},
   "outputs": [
    {
     "name": "stdout",
     "output_type": "stream",
     "text": [
      "Фраза 2 длиннее фразы 1\n"
     ]
    }
   ],
   "source": [
    "# задание 1 \n",
    "\n",
    "phrase_1 = 'Насколько проще было бы писа'\n",
    "phrase_2 = '640Кб должно хватить для любых задач. Билл Гейтс (по легенде)'\n",
    "\n",
    "\n",
    "\n",
    "if len(phrase_1) > len(phrase_2):\n",
    "    print('Фраза 1 длиннее фразы 2')\n",
    "elif len(phrase_1) < len(phrase_2):\n",
    "    print('Фраза 2 длиннее фразы 1')\n",
    "else:\n",
    "    print ('Фразы равной длины')"
   ]
  }
 ],
 "metadata": {
  "kernelspec": {
   "display_name": "Python 3",
   "language": "python",
   "name": "python3"
  },
  "language_info": {
   "codemirror_mode": {
    "name": "ipython",
    "version": 3
   },
   "file_extension": ".py",
   "mimetype": "text/x-python",
   "name": "python",
   "nbconvert_exporter": "python",
   "pygments_lexer": "ipython3",
   "version": "3.8.3"
  }
 },
 "nbformat": 4,
 "nbformat_minor": 4
}
